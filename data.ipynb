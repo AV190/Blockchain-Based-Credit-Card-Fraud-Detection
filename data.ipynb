{
 "cells": [
  {
   "cell_type": "code",
   "execution_count": 1,
   "metadata": {},
   "outputs": [],
   "source": [
    "import pandas as pd"
   ]
  },
  {
   "cell_type": "code",
   "execution_count": 2,
   "metadata": {},
   "outputs": [],
   "source": [
    "import pandas as pd\n",
    "df = pd.read_csv('final.csv')\n"
   ]
  },
  {
   "cell_type": "code",
   "execution_count": 7,
   "metadata": {},
   "outputs": [
    {
     "name": "stdout",
     "output_type": "stream",
     "text": [
      "Counts of each unique value in the column 'is_fraud':\n",
      "\n",
      "is_fraud\n",
      "0    1842743\n",
      "1       9651\n",
      "Name: count, dtype: int64\n"
     ]
    }
   ],
   "source": [
    "column_name = 'is_fraud'\n",
    "value_counts = df[column_name].value_counts()\n",
    "print(f\"Counts of each unique value in the column '{column_name}':\\n\")\n",
    "print(value_counts)\n"
   ]
  },
  {
   "cell_type": "code",
   "execution_count": 6,
   "metadata": {},
   "outputs": [
    {
     "name": "stdout",
     "output_type": "stream",
     "text": [
      "Counts of each unique value in the column 'fraud':\n",
      "\n",
      "fraud\n",
      "Not fraud    1842743\n",
      "Skimming        3330\n",
      "Phishing        3267\n",
      "Snooping        3054\n",
      "Name: count, dtype: int64\n"
     ]
    }
   ],
   "source": [
    "column_name = 'fraud'\n",
    "value_counts = df[column_name].value_counts()\n",
    "print(f\"Counts of each unique value in the column '{column_name}':\\n\")\n",
    "print(value_counts)\n"
   ]
  }
 ],
 "metadata": {
  "kernelspec": {
   "display_name": "Python 3",
   "language": "python",
   "name": "python3"
  },
  "language_info": {
   "codemirror_mode": {
    "name": "ipython",
    "version": 3
   },
   "file_extension": ".py",
   "mimetype": "text/x-python",
   "name": "python",
   "nbconvert_exporter": "python",
   "pygments_lexer": "ipython3",
   "version": "3.12.4"
  }
 },
 "nbformat": 4,
 "nbformat_minor": 2
}
